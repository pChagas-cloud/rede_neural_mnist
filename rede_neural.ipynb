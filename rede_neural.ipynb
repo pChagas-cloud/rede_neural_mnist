{
 "cells": [
  {
   "cell_type": "code",
   "execution_count": 1,
   "id": "0f46cef8",
   "metadata": {},
   "outputs": [],
   "source": [
    "#Ignorar esta parte, ela apenas serve para me lembrar o que algumas funções fazem\n",
    "\n",
    "#numpy.random.rand:\n",
    "\n",
    "        #A função random.rand entrega um array composto de valores entre 0 e 1 nas dimensões especificadas pelo pelo usuário\n",
    "        #exemplo:\n",
    "        \n",
    "        #in:\n",
    "        #np.random.rand(3, 2)\n",
    "        #out:\n",
    "        \n",
    "        #array([[ 0.14022471,  0.96360618],  \n",
    "        #       [ 0.37601032,  0.25528411],  \n",
    "        #       [ 0.49313049,  0.94909878]])\n",
    "      \n",
    "#scipy.special.expit(x)\n",
    "\n",
    "    #A função 'expit' representa no meu código a função de sigmoid\n",
    "    #Link com uma melhor explicação: https://docs.scipy.org/doc/scipy/reference/generated/scipy.special.expit.html\n",
    "    \n",
    "    \n",
    "#.T = Transpose\n",
    "    \n",
    "    #Bem simples, apenas muda o shape do array para 'colunas'\n",
    "    \n",
    "#numpt.dot\n",
    "    \n",
    "    #É basicamente um somatório\n",
    "    \n",
    "#pyplot.imshow\n",
    "\n",
    "    #Ler como \"pyplot.ImageShow\""
   ]
  },
  {
   "cell_type": "code",
   "execution_count": 8,
   "id": "4c8263e5",
   "metadata": {},
   "outputs": [],
   "source": [
    "#IMPORTAÇÕES\n",
    "\n",
    "\n",
    "#https://numpy.org/doc/stable/reference/generated/numpy.array.html\n",
    "\n",
    "\n",
    "import numpy as np\n",
    "import scipy.special #+ .expit=sigmoid()\n",
    "import matplotlib.pyplot as pyplot\n",
    "import random"
   ]
  },
  {
   "cell_type": "code",
   "execution_count": 9,
   "id": "6d1db69f",
   "metadata": {},
   "outputs": [],
   "source": [
    "#DEFININDO FUNÇÕES && MAIN\n",
    "\n",
    "class RNA:\n",
    "    def __init__(self, inputLayer, hiddenLayer, outputLayer, ritmo):\n",
    "        \n",
    "        self.input = inputLayer\n",
    "        self.hidden = hiddenLayer\n",
    "        self.output = outputLayer\n",
    "        \n",
    "        self.weightInput = (np.random.rand(self.hidden, self.input) - 0.5) #weightInicial\n",
    "        self.weightOutput = (np.random.rand(self.output, self.hidden) - 0.5) #weightFinal (entregado pelo neurônio)\n",
    "        \n",
    "\n",
    "        \n",
    "        \n",
    "        self.rt = ritmo\n",
    "        \n",
    "        #Função de Ativação\n",
    "        \n",
    "        self.sigFunc = lambda x: scipy.special.expit(x)  #define sigmoid como a função de ativação (expit = sigmoid)\n",
    "        pass\n",
    "    \n",
    "    def train(self, inputs_list, targets_list):\n",
    "        \n",
    "        #TRAINING + BACKWARD PASS\n",
    "        \n",
    "        inputs = np.array(inputs_list, ndmin=2).T  #ndmin = número de dimensões mínimo // transforma a lista de inputs em um array\n",
    "        targets = np.array(targets_list, ndmin=2).T #Mesma coisa aqui, só que utiliando a lista de targets (valores verdadeiros)\n",
    "        \n",
    "        hidden_inputs = np.dot(self.weightInput, inputs) #INPUT DO NEURÔNIO = SOMATÓRIO{WEIGHT * INPUT}\n",
    "        hidden_outputs = self.sigFunc(hidden_inputs) #OUTPUT DO NEURÔNIO = FUNÇÃO_DE_ATIVAÇÃO(INPUT)\n",
    "        \n",
    "        final_inputs = np.dot(self.weightOutput, hidden_outputs) #Inputs finais = somatório{novos_outputs * weights}\n",
    "        \n",
    "        final_outputs = self.sigFunc(final_inputs) #Outputs finais = função_de_ativação(Input_final)\n",
    "        \n",
    "        #Fim do forward-pass\n",
    "        \n",
    "        #início do backwards-pass\n",
    "        \n",
    "        \n",
    "        #target = valor verdadeiro // final output = sigmoid(output) // target - finalOutput = errorRate\n",
    "        output_errors = targets - final_outputs\n",
    "        \n",
    "        #errorRate = somatório{weights ; (output_errors\n",
    "        error_rate = np.dot(self.weightOutput.T, output_errors)\n",
    "        \n",
    "        #Adapta o weight baseado nos outputs da última camada\n",
    "        self.weightOutput += self.rt * np.dot(output_errors * final_outputs * (1.0 - final_outputs), np.transpose(hidden_outputs))\n",
    "        \n",
    "        #Define novo (weightInput)\n",
    "        self.weightInput += self.rt * np.dot(error_rate * hidden_outputs * (1.0 - hidden_outputs), np.transpose(inputs))\n",
    "        \n",
    "        \n",
    "    \n",
    "    \n",
    "        \n",
    "        \n",
    "        pass\n",
    "    \n",
    "    def query(self, inputs_list):\n",
    "        \n",
    "        inputs = np.array(inputs_list, ndmin=2).T #Define inputs\n",
    "        \n",
    "        hidden_inputs = np.dot(self.weightInput, inputs) #calcula os outputs finais, entregados pelos neurônios da 'hidden-layer'\n",
    "        hidden_outputs = self.sigFunc(hidden_inputs) #Aplica sigmoid para os novos valores\n",
    "        \n",
    "        final_inputs = np.dot(self.weightOutput, hidden_outputs) #Calcula o input final (que vai ser entregue para a última parte da rede neural)\n",
    "        final_outputs = self.sigFunc(final_inputs) #Aplica sigmoid para os valores finais \n",
    "        \n",
    "        return final_outputs"
   ]
  },
  {
   "cell_type": "code",
   "execution_count": 10,
   "id": "6aa42c0a",
   "metadata": {},
   "outputs": [
    {
     "name": "stdout",
     "output_type": "stream",
     "text": [
      "treino 1\n",
      "treino 2\n",
      "treino 3\n",
      "treino 4\n",
      "treino 5\n",
      "treino 6\n",
      "treino 7\n",
      "treino 8\n",
      "treino 9\n",
      "treino 10\n",
      "treino 11\n",
      "treino 12\n",
      "treino 13\n",
      "treino 14\n",
      "treino 15\n",
      "treino 16\n",
      "treino 17\n",
      "treino 18\n",
      "treino 19\n",
      "treino 20\n",
      "treino 21\n",
      "treino 22\n",
      "treino 23\n",
      "treino 24\n",
      "treino 25\n",
      "treino 26\n",
      "treino 27\n",
      "treino 28\n",
      "treino 29\n",
      "treino 30\n"
     ]
    }
   ],
   "source": [
    "#TREINO\n",
    "\n",
    "x_data = open('mnist_train_100.CSV', 'r')\n",
    "x_data_list = x_data.readlines()\n",
    "x_data.close()\n",
    "\n",
    "x_train = x_data_list[0]\n",
    "x = x_train.split(',')\n",
    "x = np.asfarray(x) #transforma os dados recebidos em um array composto por Floats\n",
    "xPic = x[1:] #seleciona todos os valores -index (785 - 1 = 754), input=784 = 28px * 28px\n",
    "\n",
    "gura = RNA(inputLayer=784, hiddenLayer=200, outputLayer=10, ritmo=0.1)\n",
    "\n",
    "Treinos = 30\n",
    "out = 10\n",
    "\n",
    "for x in range(Treinos):\n",
    "    print('treino', x+1)\n",
    "    \n",
    "    for y in x_data_list:\n",
    "        \n",
    "        x = y.split(',')\n",
    "        inputs = (np.asfarray(x[1:]) / 255.0 * 0.99) + 0.01\n",
    "        \n",
    "        targets = np.zeros(out) + 0.01\n",
    "        targets[int(x[0])] = 0.99\n",
    "        gura.train(inputs, targets)"
   ]
  },
  {
   "cell_type": "code",
   "execution_count": 11,
   "id": "73a7624d",
   "metadata": {},
   "outputs": [],
   "source": [
    "#TREINO --FIM"
   ]
  },
  {
   "cell_type": "code",
   "execution_count": 12,
   "id": "c34752c2",
   "metadata": {},
   "outputs": [
    {
     "data": {
      "text/plain": [
       "<matplotlib.image.AxesImage at 0x2432b1f6340>"
      ]
     },
     "execution_count": 12,
     "metadata": {},
     "output_type": "execute_result"
    },
    {
     "data": {
      "image/png": "[encoded data removed]",
      "text/plain": [
       "<Figure size 432x288 with 1 Axes>"
      ]
     },
     "metadata": {
      "needs_background": "light"
     },
     "output_type": "display_data"
    }
   ],
   "source": [
    "#DEFINE QUE IMAGEM SERÁ INTERPRETADA\n",
    "\n",
    "x_data_file = open(\"mnist_test_10.csv\", \"r\")\n",
    "x_list = x_data_file.readlines()\n",
    "x_data_file.close()\n",
    "\n",
    "imgNumber = 0 #random.randrange(0, 9)\n",
    "\n",
    "X_test = x_list[imgNumber]\n",
    "X = X_test.split(',')\n",
    "\n",
    "xPic = np.asfarray(X[1:])\n",
    "pyplot.imshow(xPic.reshape(28,28))"
   ]
  },
  {
   "cell_type": "code",
   "execution_count": 13,
   "id": "df11bb63",
   "metadata": {},
   "outputs": [
    {
     "data": {
      "text/plain": [
       "array([[0.0249425 ],\n",
       "       [0.00410421],\n",
       "       [0.07274123],\n",
       "       [0.00568364],\n",
       "       [0.00252977],\n",
       "       [0.01987944],\n",
       "       [0.00547592],\n",
       "       [0.93584903],\n",
       "       [0.00414179],\n",
       "       [0.04283895]])"
      ]
     },
     "execution_count": 13,
     "metadata": {},
     "output_type": "execute_result"
    }
   ],
   "source": [
    "inputs = (np.asfarray(X[1:]) / 255 * 0.99) + 0.01\n",
    "\n",
    "gura.query(inputs)"
   ]
  },
  {
   "cell_type": "code",
   "execution_count": 14,
   "id": "632169fd",
   "metadata": {},
   "outputs": [
    {
     "name": "stdout",
     "output_type": "stream",
     "text": [
      "Porcentagem : 0.7\n"
     ]
    }
   ],
   "source": [
    "notas = [] #Irá serivir para definir a porcentagem de acerto\n",
    "\n",
    "for line in x_list: #Puxa todas as linhas (números) do arquivo csv e aplica na função\n",
    "    \n",
    "    X = line.split(',') #Divide os elementos do arquivo\n",
    "    \n",
    "    acertos = int(X[0]) #Transforma os elementos em integers (excluindo os '/n')\n",
    "    \n",
    "    inp = (np.asfarray(X[1:]) / 255.0 * 0.99) + 0.01 \n",
    "    #Ler 'asfarray' como 'as float array' // transforma os elementos do arquivo em floats, e logo após utiliza \n",
    "    #Transforma os números recebidos (inputs) em números entre 0.1 e 1\n",
    "    \n",
    "    out = gura.query(inp) #output = input-processado\n",
    "    \n",
    "    chute = np.argmax(out) #puxa o maior número encontrado no array 'output'\n",
    "    \n",
    "    if (chute == acertos):  #ironmouse = lista onde será colocado os resultados \n",
    "        notas.append(1) #Quando a rna acerta o número, é adicionado o número 1 a lista 'ironmouse'\n",
    "    else:\n",
    "        notas.append(0) #Caso contrário, é adicionado '0'\n",
    "        \n",
    "notas_array = np.asarray(notas) #Transforma a lista de inteiros 'ironmouse', em um array de floats\n",
    "print('Porcentagem :', notas_array.sum() / notas_array.size)\n",
    "\n",
    " #A performance em porcentagem é igual a soma dos elementos do array divididos pela quantidade"
   ]
  },
  {
   "cell_type": "code",
   "execution_count": null,
   "id": "e3b89473",
   "metadata": {},
   "outputs": [],
   "source": []
  }
 ],
 "metadata": {
  "kernelspec": {
   "display_name": "Python 3 (ipykernel)",
   "language": "python",
   "name": "python3"
  },
  "language_info": {
   "codemirror_mode": {
    "name": "ipython",
    "version": 3
   },
   "file_extension": ".py",
   "mimetype": "text/x-python",
   "name": "python",
   "nbconvert_exporter": "python",
   "pygments_lexer": "ipython3",
   "version": "3.9.6"
  }
 },
 "nbformat": 4,
 "nbformat_minor": 5
}
